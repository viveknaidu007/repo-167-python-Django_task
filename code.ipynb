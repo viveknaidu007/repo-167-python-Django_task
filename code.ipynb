{
 "cells": [
  {
   "cell_type": "markdown",
   "metadata": {},
   "source": [
    "# Django signals"
   ]
  },
  {
   "cell_type": "code",
   "execution_count": null,
   "metadata": {},
   "outputs": [],
   "source": [
    "# Q-1: By default are django signals executed synchronously or asynchronously? Please support your answer with a code snippet that conclusively proves your stance.\n",
    "\n",
    "# A-1: By default, Django signals are executed synchronously. This means that the signal handlers are executed in the same thread and process, immediately after the signal is sent.\n",
    "\n",
    "#refeerence/documentation : https://docs.djangoproject.com/en/5.1/topics/signals/#sending-signals \n",
    "\n",
    "reference code:\n",
    "\n",
    "# models.py\n",
    "from django.db import models\n",
    "from django.db.models.signals import post_save\n",
    "from django.dispatch import receiver\n",
    "import time\n",
    "\n",
    "class MyModel(models.Model):\n",
    "    name = models.CharField(max_length=100)\n",
    "\n",
    "# Signal receiver\n",
    "@receiver(post_save, sender=MyModel)\n",
    "def my_signal_handler(sender, instance, **kwargs):\n",
    "    print(\"Signal received. Processing...\")\n",
    "    time.sleep(5)  # Simulating a delay in the signal handler\n",
    "    print(\"Signal processing finished.\")\n",
    "\n",
    "# Demonstration code (e.g., Django shell or a view)\n",
    "# Create a new instance of MyModel\n",
    "new_instance = MyModel.objects.create(name=\"Test Instance\")\n",
    "print(\"Instance created.\")\n",
    "\n",
    "\n",
    "\n",
    "\"\"\"# Expected Output:\n",
    "# Signal received. Processing...\n",
    "# (5 seconds delay)\n",
    "# Signal processing finished.\n",
    "# Instance created.\n",
    "\n",
    "\"\"\""
   ]
  },
  {
   "cell_type": "code",
   "execution_count": null,
   "metadata": {},
   "outputs": [],
   "source": [
    "# Q-2: Do Django signals run in the same thread as the caller?\n",
    "\n",
    "# A-2 : Yes, Django signals run in the same thread as the caller by default\n",
    "\n",
    "# refrence / documenttion : https://docs.djangoproject.com/en/5.1/ref/signals/\n",
    "\n",
    "reference code:\n",
    "\n",
    "# models.py\n",
    "from django.db import models\n",
    "from django.db.models.signals import post_save\n",
    "from django.dispatch import receiver\n",
    "import threading\n",
    "\n",
    "class MyModel(models.Model):\n",
    "    name = models.CharField(max_length=100)\n",
    "\n",
    "# Signal receiver\n",
    "@receiver(post_save, sender=MyModel)\n",
    "def my_signal_handler(sender, instance, **kwargs):\n",
    "    print(f\"Signal handler thread: {threading.current_thread().name}\")\n",
    "\n",
    "# Demonstration code (e.g., Django shell or a view)\n",
    "print(f\"Main thread: {threading.current_thread().name}\")\n",
    "new_instance = MyModel.objects.create(name=\"Test Instance\")\n",
    "\n",
    "\"\"\"# Expected Output:\n",
    "# Main thread: MainThread\n",
    "# Signal handler thread: MainThread\n",
    "\"\"\""
   ]
  },
  {
   "cell_type": "code",
   "execution_count": null,
   "metadata": {},
   "outputs": [],
   "source": [
    "# Q-3 : Do Django signals run in the same database transaction as the caller?\n",
    "\n",
    "# A-3 : By default, Django signals run within the same database transaction as the caller.\n",
    "\n",
    "#reference / documentation : https://docs.djangoproject.com/en/5.1/topics/db/transactions/\n",
    "\n",
    "reference code:\n",
    "\n",
    "# models.py\n",
    "from django.db import models, transaction\n",
    "from django.db.models.signals import post_save\n",
    "from django.dispatch import receiver\n",
    "\n",
    "class MyModel(models.Model):\n",
    "    name = models.CharField(max_length=100)\n",
    "\n",
    "# Signal receiver\n",
    "@receiver(post_save, sender=MyModel)\n",
    "def my_signal_handler(sender, instance, **kwargs):\n",
    "    if transaction.get_connection().in_atomic_block:\n",
    "        print(\"Signal is running inside a transaction.\")\n",
    "    else:\n",
    "        print(\"Signal is NOT running inside a transaction.\")\n",
    "\n",
    "# Demonstration code (e.g., Django shell or a view)\n",
    "# Create a new instance of MyModel within an atomic transaction\n",
    "with transaction.atomic():\n",
    "    new_instance = MyModel.objects.create(name=\"Test Instance\")\n",
    "\n",
    "\n",
    "\"\"\"# Expected Output:\n",
    "# Signal is running inside a transaction.\n",
    "\"\"\""
   ]
  },
  {
   "cell_type": "markdown",
   "metadata": {},
   "source": [
    "# python class"
   ]
  },
  {
   "cell_type": "code",
   "execution_count": null,
   "metadata": {},
   "outputs": [],
   "source": [
    "# Topic: Custom Classes in Python:\n",
    "\n",
    "Q : Description: You are tasked with creating a Rectangle class with the following requirements:\n",
    "An instance of the Rectangle class requires length:int and width:int to be initialized.\n",
    "We can iterate over an instance of the Rectangle class \n",
    "When an instance of the Rectangle class is iterated over, we first get its length in the format: {'length': <VALUE_OF_LENGTH>} followed by the width {width: <VALUE_OF_WIDTH>}\n",
    "\n",
    "\n",
    "A:\n",
    "code:\n",
    "\n",
    "class Rectangle:\n",
    "    def __init__(self, length: int, width: int):\n",
    "        self.length = length\n",
    "        self.width = width\n",
    "    \n",
    "    def __iter__(self):\n",
    "        yield {'length': self.length}\n",
    "        yield {'width': self.width}\n",
    "\n",
    "# example usage:\n",
    "rectangle = Rectangle(10, 5)\n",
    "\n",
    "for dimension in rectangle:\n",
    "    print(dimension)\n",
    "\n",
    "\n",
    "\"\"\"# Expected Output:\n",
    "# {'length': 10}\n",
    "# {'width': 5}\n",
    "\"\"\""
   ]
  },
  {
   "cell_type": "code",
   "execution_count": 1,
   "metadata": {},
   "outputs": [
    {
     "name": "stdout",
     "output_type": "stream",
     "text": [
      "{'length': 10}\n",
      "{'width': 5}\n"
     ]
    }
   ],
   "source": [
    "class Rectangle:\n",
    "    def __init__(self, length: int, width: int):\n",
    "        self.length = length\n",
    "        self.width = width\n",
    "    \n",
    "    def __iter__(self):\n",
    "        yield {'length': self.length}\n",
    "        yield {'width': self.width}\n",
    "\n",
    "# example usage:\n",
    "rectangle = Rectangle(10, 5)\n",
    "\n",
    "for dimension in rectangle:\n",
    "    print(dimension)"
   ]
  }
 ],
 "metadata": {
  "kernelspec": {
   "display_name": "video",
   "language": "python",
   "name": "python3"
  },
  "language_info": {
   "codemirror_mode": {
    "name": "ipython",
    "version": 3
   },
   "file_extension": ".py",
   "mimetype": "text/x-python",
   "name": "python",
   "nbconvert_exporter": "python",
   "pygments_lexer": "ipython3",
   "version": "3.10.14"
  }
 },
 "nbformat": 4,
 "nbformat_minor": 2
}
